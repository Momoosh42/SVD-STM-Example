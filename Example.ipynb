{
 "cells": [
  {
   "cell_type": "markdown",
   "metadata": {},
   "source": [
    "<img src=\"./code/ToyNetwork-Palsson.pdf\" width=\"500\">"
   ]
  },
  {
   "cell_type": "code",
   "execution_count": 54,
   "metadata": {},
   "outputs": [],
   "source": [
    "# include -\n",
    "include(\"./code/Include.jl\");"
   ]
  },
  {
   "cell_type": "markdown",
   "metadata": {},
   "source": [
    "##### Load the stoichiometric matrix "
   ]
  },
  {
   "cell_type": "code",
   "execution_count": 6,
   "metadata": {},
   "outputs": [
    {
     "data": {
      "text/plain": [
       "8×9 Array{Float64,2}:\n",
       " -1.0   0.0   0.0   0.0   0.0   0.0   1.0   0.0   0.0\n",
       "  1.0  -1.0  -1.0   1.0   0.0   0.0   0.0   0.0   0.0\n",
       "  0.0   1.0   0.0   0.0   0.0   0.0   0.0  -1.0   0.0\n",
       "  0.0   0.0   1.0  -1.0  -1.0   1.0   0.0   0.0   0.0\n",
       "  0.0   0.0   0.0   0.0   1.0  -1.0   0.0   0.0  -1.0\n",
       "  0.0   0.0   0.0   0.0   0.0   0.0  -1.0   0.0   0.0\n",
       "  0.0   0.0   0.0   0.0   0.0   0.0   0.0   1.0   0.0\n",
       "  0.0   0.0   0.0   0.0   0.0   0.0   0.0   0.0   1.0"
      ]
     },
     "execution_count": 6,
     "metadata": {},
     "output_type": "execute_result"
    }
   ],
   "source": [
    "stoichiometric_matrix = readdlm(\"./code/network/Network.csv\",',')"
   ]
  },
  {
   "cell_type": "code",
   "execution_count": 8,
   "metadata": {},
   "outputs": [
    {
     "data": {
      "text/plain": [
       "(8, 9)"
      ]
     },
     "execution_count": 8,
     "metadata": {},
     "output_type": "execute_result"
    }
   ],
   "source": [
    "(number_of_metabolites, number_of_reactions) = size(stoichiometric_matrix)"
   ]
  },
  {
   "cell_type": "markdown",
   "metadata": {},
   "source": [
    "##### Compute the metabolite ($A_{m}$) and reaction ($A_{v}$) Adjacency matrices"
   ]
  },
  {
   "cell_type": "code",
   "execution_count": 18,
   "metadata": {},
   "outputs": [
    {
     "data": {
      "text/plain": [
       "8×9 Array{Float64,2}:\n",
       " 1.0  0.0  0.0  0.0  0.0  0.0  1.0  0.0  0.0\n",
       " 1.0  1.0  1.0  1.0  0.0  0.0  0.0  0.0  0.0\n",
       " 0.0  1.0  0.0  0.0  0.0  0.0  0.0  1.0  0.0\n",
       " 0.0  0.0  1.0  1.0  1.0  1.0  0.0  0.0  0.0\n",
       " 0.0  0.0  0.0  0.0  1.0  1.0  0.0  0.0  1.0\n",
       " 0.0  0.0  0.0  0.0  0.0  0.0  1.0  0.0  0.0\n",
       " 0.0  0.0  0.0  0.0  0.0  0.0  0.0  1.0  0.0\n",
       " 0.0  0.0  0.0  0.0  0.0  0.0  0.0  0.0  1.0"
      ]
     },
     "execution_count": 18,
     "metadata": {},
     "output_type": "execute_result"
    }
   ],
   "source": [
    "# Adj matricies are calculated from the binary stoichiometic array -\n",
    "# all non-zero values = 1.0\n",
    "binary_stoichiometric_matrix = make_binary_stoichiometric_matrix(stoichiometric_matrix)"
   ]
  },
  {
   "cell_type": "code",
   "execution_count": 19,
   "metadata": {},
   "outputs": [
    {
     "data": {
      "text/plain": [
       "8×8 Array{Float64,2}:\n",
       " 2.0  1.0  0.0  0.0  0.0  1.0  0.0  0.0\n",
       " 1.0  4.0  1.0  2.0  0.0  0.0  0.0  0.0\n",
       " 0.0  1.0  2.0  0.0  0.0  0.0  1.0  0.0\n",
       " 0.0  2.0  0.0  4.0  2.0  0.0  0.0  0.0\n",
       " 0.0  0.0  0.0  2.0  3.0  0.0  0.0  1.0\n",
       " 1.0  0.0  0.0  0.0  0.0  1.0  0.0  0.0\n",
       " 0.0  0.0  1.0  0.0  0.0  0.0  1.0  0.0\n",
       " 0.0  0.0  0.0  0.0  1.0  0.0  0.0  1.0"
      ]
     },
     "execution_count": 19,
     "metadata": {},
     "output_type": "execute_result"
    }
   ],
   "source": [
    "# Metabolite adj matrix -\n",
    "A_m = binary_stoichiometric_matrix*transpose(binary_stoichiometric_matrix)"
   ]
  },
  {
   "cell_type": "code",
   "execution_count": 20,
   "metadata": {},
   "outputs": [
    {
     "data": {
      "text/plain": [
       "9×9 Array{Float64,2}:\n",
       " 2.0  1.0  1.0  1.0  0.0  0.0  1.0  0.0  0.0\n",
       " 1.0  2.0  1.0  1.0  0.0  0.0  0.0  1.0  0.0\n",
       " 1.0  1.0  2.0  2.0  1.0  1.0  0.0  0.0  0.0\n",
       " 1.0  1.0  2.0  2.0  1.0  1.0  0.0  0.0  0.0\n",
       " 0.0  0.0  1.0  1.0  2.0  2.0  0.0  0.0  1.0\n",
       " 0.0  0.0  1.0  1.0  2.0  2.0  0.0  0.0  1.0\n",
       " 1.0  0.0  0.0  0.0  0.0  0.0  2.0  0.0  0.0\n",
       " 0.0  1.0  0.0  0.0  0.0  0.0  0.0  2.0  0.0\n",
       " 0.0  0.0  0.0  0.0  1.0  1.0  0.0  0.0  2.0"
      ]
     },
     "execution_count": 20,
     "metadata": {},
     "output_type": "execute_result"
    }
   ],
   "source": [
    "# Reaction adj matrix -\n",
    "A_v = transpose(binary_stoichiometric_matrix)*binary_stoichiometric_matrix"
   ]
  },
  {
   "cell_type": "markdown",
   "metadata": {},
   "source": [
    "#### Singular value decomposition (SVD) of the stoichiometric matrix"
   ]
  },
  {
   "cell_type": "markdown",
   "metadata": {},
   "source": [
    "The [SVD of a matrix](https://www.youtube.com/watch?v=mBcLRGuAFUk) is a method to decompose an array $A$ into three arrays:\n",
    "\n",
    "\\begin{equation}\n",
    "A = U\\Sigma{V}^{T}\n",
    "\\end{equation}\n",
    "\n",
    "which is the product of rotation $\\times$ stretch $\\times$ rotation operations. The SVD of the stoichiometric array has been used to get some additional structural insight into a biological reaction network (see the [Palsson study](https://www.ncbi.nlm.nih.gov/pubmed/12900206) or the [Palsson SVD stoichiometric analysis video](https://www.youtube.com/watch?v=8W7RBt_iCYM&feature=youtu.be)).\n",
    "\n",
    "In simple terms, the SVD of an array pulls the matrix into a set of weight modes, where each mode represents a section of the original matrix, where the weight (importance) of that section is given by the singular values. The original matrix can be reconstructed as the weighted sum of [outer products](https://en.wikipedia.org/wiki/Outer_product):\n",
    "\n",
    "\\begin{equation}\n",
    "A = \\sum_{i=1}^{r}\\sigma_{i}\\left(u_{i}\\otimes{v_{i}^{T}}\\right)\n",
    "\\end{equation}\n",
    "\n",
    "where $r$ denotes the [rank](https://en.wikipedia.org/wiki/System_of_linear_equations) of the matrix $A$. "
   ]
  },
  {
   "cell_type": "code",
   "execution_count": 23,
   "metadata": {},
   "outputs": [],
   "source": [
    "(U,S,V) = svd(stoichiometric_matrix);"
   ]
  },
  {
   "cell_type": "markdown",
   "metadata": {},
   "source": [
    "##### Check accuracy:"
   ]
  },
  {
   "cell_type": "code",
   "execution_count": 31,
   "metadata": {},
   "outputs": [],
   "source": [
    "error_term = norm(stoichiometric_matrix - U*diagm(S)*transpose(V));"
   ]
  },
  {
   "cell_type": "code",
   "execution_count": 32,
   "metadata": {},
   "outputs": [
    {
     "data": {
      "text/plain": [
       "8.713796557141027e-15"
      ]
     },
     "execution_count": 32,
     "metadata": {},
     "output_type": "execute_result"
    }
   ],
   "source": [
    "error_term"
   ]
  },
  {
   "cell_type": "code",
   "execution_count": 58,
   "metadata": {},
   "outputs": [
    {
     "data": {
      "text/plain": [
       "8×8 Array{Float64,2}:\n",
       "  0.126327    0.308825   -0.601501     …   0.371748     -0.238715   0.353553\n",
       " -0.584093   -0.575166    3.94129e-15      5.55112e-17  -0.0144711  0.353553\n",
       "  0.126327    0.308825    0.601501        -0.371748     -0.238715   0.353553\n",
       "  0.690286   -0.257872    1.72085e-15      1.15186e-15   0.212413   0.353553\n",
       " -0.380989    0.598011   -4.32987e-15      2.02616e-15   0.400544   0.353553\n",
       " -0.0217949  -0.0972011   0.371748     …   0.601501     -0.375857   0.353553\n",
       " -0.0217949  -0.0972011  -0.371748        -0.601501     -0.375857   0.353553\n",
       "  0.0657311  -0.188221    1.83187e-15      3.10862e-15   0.630658   0.353553"
      ]
     },
     "execution_count": 58,
     "metadata": {},
     "output_type": "execute_result"
    }
   ],
   "source": [
    "# the U matrix governs metabolite combinations -\n",
    "U"
   ]
  },
  {
   "cell_type": "code",
   "execution_count": 60,
   "metadata": {},
   "outputs": [
    {
     "data": {
      "text/plain": [
       "9×8 Adjoint{Float64,Array{Float64,2}}:\n",
       " -0.27251    -0.43252    0.371748     -0.172859   …   0.371233  -9.81308e-17\n",
       "  0.27251     0.43252    0.371748      0.172859      -0.371233  -4.4437e-15 \n",
       "  0.488839    0.155246  -1.16573e-15  -0.308278       0.375604  -0.289121   \n",
       " -0.488839   -0.155246   1.22125e-15   0.308278      -0.375604  -0.289121   \n",
       " -0.410931    0.418767  -3.67241e-15  -0.0824577      0.31145    0.645297   \n",
       "  0.410931   -0.418767   3.6169e-15    0.0824577  …  -0.31145    0.645297   \n",
       "  0.0568182   0.198661  -0.601501      0.50309        0.227037  -9.81308e-17\n",
       " -0.0568182  -0.198661  -0.601501     -0.50309       -0.227037  -2.42861e-15\n",
       "  0.171358   -0.384688   3.71925e-15   0.479972       0.38095    2.27596e-15"
      ]
     },
     "execution_count": 60,
     "metadata": {},
     "output_type": "execute_result"
    }
   ],
   "source": [
    "# the V matrix governs reaction combinations -\n",
    "V"
   ]
  },
  {
   "cell_type": "code",
   "execution_count": 62,
   "metadata": {},
   "outputs": [
    {
     "data": {
      "text/plain": [
       "8×8 Array{Float64,2}:\n",
       " 2.60695  0.0      0.0      0.0      0.0      0.0       0.0       0.0       \n",
       " 0.0      2.04381  0.0      0.0      0.0      0.0       0.0       0.0       \n",
       " 0.0      0.0      1.61803  0.0      0.0      0.0       0.0       0.0       \n",
       " 0.0      0.0      0.0      1.53088  0.0      0.0       0.0       0.0       \n",
       " 0.0      0.0      0.0      0.0      1.14812  0.0       0.0       0.0       \n",
       " 0.0      0.0      0.0      0.0      0.0      0.618034  0.0       0.0       \n",
       " 0.0      0.0      0.0      0.0      0.0      0.0       0.604051  0.0       \n",
       " 0.0      0.0      0.0      0.0      0.0      0.0       0.0       4.5905e-17"
      ]
     },
     "execution_count": 62,
     "metadata": {},
     "output_type": "execute_result"
    }
   ],
   "source": [
    "# The S matrix is a diagonal matrix that contains the singular values (weights in each mode)\n",
    "diagm(S)"
   ]
  },
  {
   "cell_type": "code",
   "execution_count": 34,
   "metadata": {},
   "outputs": [
    {
     "data": {
      "text/plain": [
       "7"
      ]
     },
     "execution_count": 34,
     "metadata": {},
     "output_type": "execute_result"
    }
   ],
   "source": [
    "rank(stoichiometric_matrix)"
   ]
  },
  {
   "cell_type": "code",
   "execution_count": 36,
   "metadata": {},
   "outputs": [
    {
     "data": {
      "text/plain": [
       "8-element Array{Float64,1}:\n",
       " 25.63401371619153     \n",
       " 20.096743282436805    \n",
       " 15.910061691856608    \n",
       " 15.05308187167751     \n",
       " 11.289383499874889    \n",
       "  6.077102803181567    \n",
       "  5.939613134781095    \n",
       "  4.513817863863056e-16"
      ]
     },
     "execution_count": 36,
     "metadata": {},
     "output_type": "execute_result"
    }
   ],
   "source": [
    "fraction = (S./sum(S))*100.0"
   ]
  },
  {
   "cell_type": "code",
   "execution_count": 49,
   "metadata": {},
   "outputs": [],
   "source": [
    "FM = fractional_reconstruction_of_stoichiometric_matrix(stoichiometric_matrix, U,S,V);"
   ]
  },
  {
   "cell_type": "code",
   "execution_count": 50,
   "metadata": {},
   "outputs": [
    {
     "data": {
      "text/plain": [
       "8×9 Array{Float64,2}:\n",
       " -0.0897453   0.0897453   0.160989   -0.160989   …  -0.0187118    0.0564329 \n",
       "  0.414951   -0.414951   -0.744355    0.744355       0.086517    -0.260926  \n",
       " -0.0897453   0.0897453   0.160989   -0.160989      -0.0187118    0.0564329 \n",
       " -0.490393    0.490393    0.879686   -0.879686      -0.102247     0.308365  \n",
       "  0.270662   -0.270662   -0.485525    0.485525       0.0564329   -0.170196  \n",
       "  0.0154835  -0.0154835  -0.027775    0.027775   …   0.0032283   -0.00973623\n",
       "  0.0154835  -0.0154835  -0.027775    0.027775       0.0032283   -0.00973623\n",
       " -0.0466967   0.0466967   0.0837664  -0.0837664     -0.00973623   0.0293635 "
      ]
     },
     "execution_count": 50,
     "metadata": {},
     "output_type": "execute_result"
    }
   ],
   "source": [
    "FM[1]"
   ]
  },
  {
   "cell_type": "code",
   "execution_count": 51,
   "metadata": {},
   "outputs": [
    {
     "data": {
      "text/plain": [
       "8×9 Array{Float64,2}:\n",
       " -0.362744   0.362744   0.258977   …   0.144103   -0.144103   -0.186375 \n",
       "  0.923393  -0.923393  -0.926852      -0.32005     0.32005     0.191288 \n",
       " -0.362744   0.362744   0.258977       0.144103   -0.144103   -0.186375 \n",
       " -0.262436   0.262436   0.797865      -0.0024562   0.0024562   0.511112 \n",
       " -0.257974   0.257974  -0.29578        0.186375   -0.186375   -0.640371 \n",
       "  0.101408  -0.101408  -0.0586163  …  -0.0426945   0.0426945   0.0666863\n",
       "  0.101408  -0.101408  -0.0586163     -0.0426945   0.0426945   0.0666863\n",
       "  0.119689  -0.119689   0.024045      -0.0666863   0.0666863   0.177349 "
      ]
     },
     "execution_count": 51,
     "metadata": {},
     "output_type": "execute_result"
    }
   ],
   "source": [
    "FM[2]"
   ]
  },
  {
   "cell_type": "code",
   "execution_count": 52,
   "metadata": {},
   "outputs": [
    {
     "data": {
      "text/plain": [
       "8×9 Array{Float64,2}:\n",
       " -1.0           8.39606e-16  -3.1225e-16   …  -1.08941e-15  -3.747e-16  \n",
       "  1.0          -1.0          -1.0              2.37787e-15  -1.23599e-16\n",
       "  1.13798e-15   1.0          -4.71845e-16     -1.0           1.38778e-17\n",
       " -3.1225e-16   -6.59195e-16   1.0              1.09635e-15   2.77556e-17\n",
       "  1.42941e-15   8.46545e-16   4.30211e-16     -2.51188e-15  -1.0        \n",
       " -6.38378e-16  -3.05311e-16  -5.55112e-17  …   5.96745e-16   6.93889e-17\n",
       " -6.245e-16    -1.80411e-16  -7.21645e-16      1.0          -1.38778e-16\n",
       " -2.498e-16    -2.22045e-16   4.71845e-16     -5.55112e-17   1.0        "
      ]
     },
     "execution_count": 52,
     "metadata": {},
     "output_type": "execute_result"
    }
   ],
   "source": [
    "FM[end]"
   ]
  },
  {
   "cell_type": "markdown",
   "metadata": {},
   "source": [
    "##### Is there information in the U and V arrays?"
   ]
  },
  {
   "cell_type": "code",
   "execution_count": 72,
   "metadata": {},
   "outputs": [
    {
     "data": {
      "text/plain": [
       "8×3 Array{Any,2}:\n",
       " \"Cx\"  7  0.0217949\n",
       " \"Ax\"  6  0.0217949\n",
       " \"Ex\"  8  0.0657311\n",
       " \"A\"   1  0.126327 \n",
       " \"C\"   3  0.126327 \n",
       " \"E\"   5  0.380989 \n",
       " \"B\"   2  0.584093 \n",
       " \"D\"   4  0.690286 "
      ]
     },
     "execution_count": 72,
     "metadata": {},
     "output_type": "execute_result"
    }
   ],
   "source": [
    "MSV = [\"A\",\"B\",\"C\",\"D\",\"E\",\"Ax\",\"Cx\",\"Ex\"]\n",
    "idx_importance = sortperm(abs.(U[:,1]));\n",
    "[MSV[idx_importance] idx_importance abs.(U[idx_importance,1])]"
   ]
  },
  {
   "cell_type": "code",
   "execution_count": 73,
   "metadata": {},
   "outputs": [
    {
     "data": {
      "text/plain": [
       "9×3 Array{Any,2}:\n",
       " \"q2\"  8  0.0568182\n",
       " \"q1\"  7  0.0568182\n",
       " \"q3\"  9  0.171358 \n",
       " \"v1\"  1  0.27251  \n",
       " \"v2\"  2  0.27251  \n",
       " \"v5\"  5  0.410931 \n",
       " \"v6\"  6  0.410931 \n",
       " \"v3\"  3  0.488839 \n",
       " \"v4\"  4  0.488839 "
      ]
     },
     "execution_count": 73,
     "metadata": {},
     "output_type": "execute_result"
    }
   ],
   "source": [
    "RSV = [\"v1\",\"v2\",\"v3\",\"v4\",\"v5\",\"v6\",\"q1\",\"q2\",\"q3\"]\n",
    "idx_importance = sortperm(abs.(V[:,1]));\n",
    "[RSV[idx_importance] idx_importance abs.(V[idx_importance,1])]"
   ]
  },
  {
   "cell_type": "code",
   "execution_count": null,
   "metadata": {},
   "outputs": [],
   "source": []
  }
 ],
 "metadata": {
  "kernelspec": {
   "display_name": "Julia 1.3.1",
   "language": "julia",
   "name": "julia-1.3"
  },
  "language_info": {
   "file_extension": ".jl",
   "mimetype": "application/julia",
   "name": "julia",
   "version": "1.3.1"
  }
 },
 "nbformat": 4,
 "nbformat_minor": 2
}
