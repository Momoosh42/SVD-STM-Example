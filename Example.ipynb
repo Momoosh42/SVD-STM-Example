{
 "cells": [
  {
   "cell_type": "code",
   "execution_count": 47,
   "metadata": {},
   "outputs": [],
   "source": [
    "# includes -\n",
    "include(\"./code/Include.jl\");"
   ]
  },
  {
   "cell_type": "markdown",
   "metadata": {},
   "source": [
    "##### Load the stoichiometric matrix "
   ]
  },
  {
   "cell_type": "code",
   "execution_count": 6,
   "metadata": {},
   "outputs": [
    {
     "data": {
      "text/plain": [
       "8×9 Array{Float64,2}:\n",
       " -1.0   0.0   0.0   0.0   0.0   0.0   1.0   0.0   0.0\n",
       "  1.0  -1.0  -1.0   1.0   0.0   0.0   0.0   0.0   0.0\n",
       "  0.0   1.0   0.0   0.0   0.0   0.0   0.0  -1.0   0.0\n",
       "  0.0   0.0   1.0  -1.0  -1.0   1.0   0.0   0.0   0.0\n",
       "  0.0   0.0   0.0   0.0   1.0  -1.0   0.0   0.0  -1.0\n",
       "  0.0   0.0   0.0   0.0   0.0   0.0  -1.0   0.0   0.0\n",
       "  0.0   0.0   0.0   0.0   0.0   0.0   0.0   1.0   0.0\n",
       "  0.0   0.0   0.0   0.0   0.0   0.0   0.0   0.0   1.0"
      ]
     },
     "execution_count": 6,
     "metadata": {},
     "output_type": "execute_result"
    }
   ],
   "source": [
    "stoichiometric_matrix = readdlm(\"./code/network/Network.csv\",',')"
   ]
  },
  {
   "cell_type": "code",
   "execution_count": 8,
   "metadata": {},
   "outputs": [
    {
     "data": {
      "text/plain": [
       "(8, 9)"
      ]
     },
     "execution_count": 8,
     "metadata": {},
     "output_type": "execute_result"
    }
   ],
   "source": [
    "(number_of_metabolites, number_of_reactions) = size(stoichiometric_matrix)"
   ]
  },
  {
   "cell_type": "markdown",
   "metadata": {},
   "source": [
    "##### Compute the metabolite ($A_{m}$) and reaction ($A_{v}$) Adjacency matrices"
   ]
  },
  {
   "cell_type": "code",
   "execution_count": 18,
   "metadata": {},
   "outputs": [
    {
     "data": {
      "text/plain": [
       "8×9 Array{Float64,2}:\n",
       " 1.0  0.0  0.0  0.0  0.0  0.0  1.0  0.0  0.0\n",
       " 1.0  1.0  1.0  1.0  0.0  0.0  0.0  0.0  0.0\n",
       " 0.0  1.0  0.0  0.0  0.0  0.0  0.0  1.0  0.0\n",
       " 0.0  0.0  1.0  1.0  1.0  1.0  0.0  0.0  0.0\n",
       " 0.0  0.0  0.0  0.0  1.0  1.0  0.0  0.0  1.0\n",
       " 0.0  0.0  0.0  0.0  0.0  0.0  1.0  0.0  0.0\n",
       " 0.0  0.0  0.0  0.0  0.0  0.0  0.0  1.0  0.0\n",
       " 0.0  0.0  0.0  0.0  0.0  0.0  0.0  0.0  1.0"
      ]
     },
     "execution_count": 18,
     "metadata": {},
     "output_type": "execute_result"
    }
   ],
   "source": [
    "binary_stoichiometric_matrix = make_binary_stoichiometric_matrix(stoichiometric_matrix)"
   ]
  },
  {
   "cell_type": "code",
   "execution_count": 19,
   "metadata": {},
   "outputs": [
    {
     "data": {
      "text/plain": [
       "8×8 Array{Float64,2}:\n",
       " 2.0  1.0  0.0  0.0  0.0  1.0  0.0  0.0\n",
       " 1.0  4.0  1.0  2.0  0.0  0.0  0.0  0.0\n",
       " 0.0  1.0  2.0  0.0  0.0  0.0  1.0  0.0\n",
       " 0.0  2.0  0.0  4.0  2.0  0.0  0.0  0.0\n",
       " 0.0  0.0  0.0  2.0  3.0  0.0  0.0  1.0\n",
       " 1.0  0.0  0.0  0.0  0.0  1.0  0.0  0.0\n",
       " 0.0  0.0  1.0  0.0  0.0  0.0  1.0  0.0\n",
       " 0.0  0.0  0.0  0.0  1.0  0.0  0.0  1.0"
      ]
     },
     "execution_count": 19,
     "metadata": {},
     "output_type": "execute_result"
    }
   ],
   "source": [
    "A_m = binary_stoichiometric_matrix*transpose(binary_stoichiometric_matrix)"
   ]
  },
  {
   "cell_type": "code",
   "execution_count": 20,
   "metadata": {},
   "outputs": [
    {
     "data": {
      "text/plain": [
       "9×9 Array{Float64,2}:\n",
       " 2.0  1.0  1.0  1.0  0.0  0.0  1.0  0.0  0.0\n",
       " 1.0  2.0  1.0  1.0  0.0  0.0  0.0  1.0  0.0\n",
       " 1.0  1.0  2.0  2.0  1.0  1.0  0.0  0.0  0.0\n",
       " 1.0  1.0  2.0  2.0  1.0  1.0  0.0  0.0  0.0\n",
       " 0.0  0.0  1.0  1.0  2.0  2.0  0.0  0.0  1.0\n",
       " 0.0  0.0  1.0  1.0  2.0  2.0  0.0  0.0  1.0\n",
       " 1.0  0.0  0.0  0.0  0.0  0.0  2.0  0.0  0.0\n",
       " 0.0  1.0  0.0  0.0  0.0  0.0  0.0  2.0  0.0\n",
       " 0.0  0.0  0.0  0.0  1.0  1.0  0.0  0.0  2.0"
      ]
     },
     "execution_count": 20,
     "metadata": {},
     "output_type": "execute_result"
    }
   ],
   "source": [
    "A_v = transpose(binary_stoichiometric_matrix)*binary_stoichiometric_matrix"
   ]
  },
  {
   "cell_type": "markdown",
   "metadata": {},
   "source": [
    "#### Singular value decomposition (SVD) of the stoichiometric matrix"
   ]
  },
  {
   "cell_type": "markdown",
   "metadata": {},
   "source": [
    "The [SVD of a matrix](https://www.youtube.com/watch?v=mBcLRGuAFUk) is a method to decompose an array $A$ into three arrays:\n",
    "\\begin{equation}\n",
    "A = U\\Sigma{V}^{T}\n",
    "\\end{equation}which is the product of rotation $\\times$ stretch $\\times$ rotation operations. The SVD of the stoichiometric array has been used to get some additional structural insight into a biological reaction network (see the [Palsson study](https://www.ncbi.nlm.nih.gov/pubmed/12900206) or the [Palsson SVD stoichiometric analysis video](https://www.youtube.com/watch?v=8W7RBt_iCYM&feature=youtu.be))"
   ]
  },
  {
   "cell_type": "code",
   "execution_count": 23,
   "metadata": {},
   "outputs": [],
   "source": [
    "(U,S,V) = svd(stoichiometric_matrix);"
   ]
  },
  {
   "cell_type": "markdown",
   "metadata": {},
   "source": [
    "##### Check accuracy:"
   ]
  },
  {
   "cell_type": "code",
   "execution_count": 31,
   "metadata": {},
   "outputs": [],
   "source": [
    "error_term = norm(stoichiometric_matrix - U*diagm(S)*transpose(V));"
   ]
  },
  {
   "cell_type": "code",
   "execution_count": 32,
   "metadata": {},
   "outputs": [
    {
     "data": {
      "text/plain": [
       "8.713796557141027e-15"
      ]
     },
     "execution_count": 32,
     "metadata": {},
     "output_type": "execute_result"
    }
   ],
   "source": [
    "error_term"
   ]
  },
  {
   "cell_type": "code",
   "execution_count": 33,
   "metadata": {},
   "outputs": [
    {
     "data": {
      "text/plain": [
       "8×8 Array{Float64,2}:\n",
       " 2.60695  0.0      0.0      0.0      0.0      0.0       0.0       0.0       \n",
       " 0.0      2.04381  0.0      0.0      0.0      0.0       0.0       0.0       \n",
       " 0.0      0.0      1.61803  0.0      0.0      0.0       0.0       0.0       \n",
       " 0.0      0.0      0.0      1.53088  0.0      0.0       0.0       0.0       \n",
       " 0.0      0.0      0.0      0.0      1.14812  0.0       0.0       0.0       \n",
       " 0.0      0.0      0.0      0.0      0.0      0.618034  0.0       0.0       \n",
       " 0.0      0.0      0.0      0.0      0.0      0.0       0.604051  0.0       \n",
       " 0.0      0.0      0.0      0.0      0.0      0.0       0.0       4.5905e-17"
      ]
     },
     "execution_count": 33,
     "metadata": {},
     "output_type": "execute_result"
    }
   ],
   "source": [
    "diagm(S)"
   ]
  },
  {
   "cell_type": "code",
   "execution_count": 34,
   "metadata": {},
   "outputs": [
    {
     "data": {
      "text/plain": [
       "7"
      ]
     },
     "execution_count": 34,
     "metadata": {},
     "output_type": "execute_result"
    }
   ],
   "source": [
    "rank(stoichiometric_matrix)"
   ]
  },
  {
   "cell_type": "code",
   "execution_count": 36,
   "metadata": {},
   "outputs": [
    {
     "data": {
      "text/plain": [
       "8-element Array{Float64,1}:\n",
       " 25.63401371619153     \n",
       " 20.096743282436805    \n",
       " 15.910061691856608    \n",
       " 15.05308187167751     \n",
       " 11.289383499874889    \n",
       "  6.077102803181567    \n",
       "  5.939613134781095    \n",
       "  4.513817863863056e-16"
      ]
     },
     "execution_count": 36,
     "metadata": {},
     "output_type": "execute_result"
    }
   ],
   "source": [
    "fraction = (S./sum(S))*100.0"
   ]
  },
  {
   "cell_type": "code",
   "execution_count": 49,
   "metadata": {},
   "outputs": [],
   "source": [
    "FM = fractional_reconstruction_of_stoichiometric_matrix(stoichiometric_matrix, U,S,V);"
   ]
  },
  {
   "cell_type": "code",
   "execution_count": 50,
   "metadata": {},
   "outputs": [
    {
     "data": {
      "text/plain": [
       "8×9 Array{Float64,2}:\n",
       " -0.0897453   0.0897453   0.160989   -0.160989   …  -0.0187118    0.0564329 \n",
       "  0.414951   -0.414951   -0.744355    0.744355       0.086517    -0.260926  \n",
       " -0.0897453   0.0897453   0.160989   -0.160989      -0.0187118    0.0564329 \n",
       " -0.490393    0.490393    0.879686   -0.879686      -0.102247     0.308365  \n",
       "  0.270662   -0.270662   -0.485525    0.485525       0.0564329   -0.170196  \n",
       "  0.0154835  -0.0154835  -0.027775    0.027775   …   0.0032283   -0.00973623\n",
       "  0.0154835  -0.0154835  -0.027775    0.027775       0.0032283   -0.00973623\n",
       " -0.0466967   0.0466967   0.0837664  -0.0837664     -0.00973623   0.0293635 "
      ]
     },
     "execution_count": 50,
     "metadata": {},
     "output_type": "execute_result"
    }
   ],
   "source": [
    "FM[1]"
   ]
  },
  {
   "cell_type": "code",
   "execution_count": 51,
   "metadata": {},
   "outputs": [
    {
     "data": {
      "text/plain": [
       "8×9 Array{Float64,2}:\n",
       " -0.362744   0.362744   0.258977   …   0.144103   -0.144103   -0.186375 \n",
       "  0.923393  -0.923393  -0.926852      -0.32005     0.32005     0.191288 \n",
       " -0.362744   0.362744   0.258977       0.144103   -0.144103   -0.186375 \n",
       " -0.262436   0.262436   0.797865      -0.0024562   0.0024562   0.511112 \n",
       " -0.257974   0.257974  -0.29578        0.186375   -0.186375   -0.640371 \n",
       "  0.101408  -0.101408  -0.0586163  …  -0.0426945   0.0426945   0.0666863\n",
       "  0.101408  -0.101408  -0.0586163     -0.0426945   0.0426945   0.0666863\n",
       "  0.119689  -0.119689   0.024045      -0.0666863   0.0666863   0.177349 "
      ]
     },
     "execution_count": 51,
     "metadata": {},
     "output_type": "execute_result"
    }
   ],
   "source": [
    "FM[2]"
   ]
  },
  {
   "cell_type": "code",
   "execution_count": 52,
   "metadata": {},
   "outputs": [
    {
     "data": {
      "text/plain": [
       "8×9 Array{Float64,2}:\n",
       " -1.0           8.39606e-16  -3.1225e-16   …  -1.08941e-15  -3.747e-16  \n",
       "  1.0          -1.0          -1.0              2.37787e-15  -1.23599e-16\n",
       "  1.13798e-15   1.0          -4.71845e-16     -1.0           1.38778e-17\n",
       " -3.1225e-16   -6.59195e-16   1.0              1.09635e-15   2.77556e-17\n",
       "  1.42941e-15   8.46545e-16   4.30211e-16     -2.51188e-15  -1.0        \n",
       " -6.38378e-16  -3.05311e-16  -5.55112e-17  …   5.96745e-16   6.93889e-17\n",
       " -6.245e-16    -1.80411e-16  -7.21645e-16      1.0          -1.38778e-16\n",
       " -2.498e-16    -2.22045e-16   4.71845e-16     -5.55112e-17   1.0        "
      ]
     },
     "execution_count": 52,
     "metadata": {},
     "output_type": "execute_result"
    }
   ],
   "source": [
    "FM[end]"
   ]
  },
  {
   "cell_type": "code",
   "execution_count": null,
   "metadata": {},
   "outputs": [],
   "source": []
  }
 ],
 "metadata": {
  "kernelspec": {
   "display_name": "Julia 1.3.1",
   "language": "julia",
   "name": "julia-1.3"
  },
  "language_info": {
   "file_extension": ".jl",
   "mimetype": "application/julia",
   "name": "julia",
   "version": "1.3.1"
  }
 },
 "nbformat": 4,
 "nbformat_minor": 2
}
